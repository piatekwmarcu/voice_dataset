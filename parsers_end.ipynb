{
  "nbformat": 4,
  "nbformat_minor": 0,
  "metadata": {
    "colab": {
      "provenance": []
    },
    "kernelspec": {
      "name": "python3",
      "display_name": "Python 3"
    },
    "language_info": {
      "name": "python"
    }
  },
  "cells": [
    {
      "cell_type": "code",
      "source": [
        "import os\n",
        "import pathlib\n",
        "import csv\n",
        "import librosa\n",
        "\n",
        "\n",
        "def parse_commonvoice(input_data_path: str, output_csv_path: str):\n",
        "    input_data_path = pathlib.Path(input_data_path)\n",
        "    output_csv_path = pathlib.Path(output_csv_path)\n",
        "\n",
        "    csv_filename = input_data_path.stem + '.csv'\n",
        "    csv_path = output_csv_path / csv_filename\n",
        "\n",
        "    audio, sr = librosa.load(input_data_path)\n",
        "\n",
        "    dlugosc_sygnalu = len(audio) / sr\n",
        "\n",
        "    print(\"Długość sygnału: {:.2f} sekundy\".format(dlugosc_sygnalu))\n",
        "\n",
        "    with open(csv_path, 'w', newline='') as csvfile:\n",
        "        writer = csv.writer(csvfile)\n",
        "        writer.writerow(['Długość sygnału'])\n",
        "        writer.writerow([dlugosc_sygnalu])\n",
        "\n",
        "\n",
        "def parse_openslr(input_data_path: str, output_csv_path: str):\n",
        "    input_data_path = pathlib.Path(input_data_path)\n",
        "    output_csv_path = pathlib.Path(output_csv_path)\n",
        "\n",
        "    audio, sr = librosa.load(input_data_path)\n",
        "    dlugosc_sygnalu = len(audio) / sr\n",
        "    print(\"Długość sygnału: {:.2f} sekundy\".format(dlugosc_sygnalu))\n",
        "\n",
        "    with open(output_csv_path, 'w', newline='') as csvfile:\n",
        "        writer = csv.writer(csvfile)\n",
        "        writer.writerow(['Długość sygnału'])\n",
        "        writer.writerow([dlugosc_sygnalu])\n",
        "\n",
        "\n",
        "def run(input_folder_path: str, output_csv_path: str):\n",
        "    input_folder_path = pathlib.Path(input_folder_path)\n",
        "    output_csv_path = pathlib.Path(output_csv_path)\n",
        "\n",
        "    with open(output_csv_path, 'w', newline='') as csvfile:\n",
        "        writer = csv.writer(csvfile)\n",
        "        writer.writerow(['Plik', 'Długość sygnału'])\n",
        "\n",
        "    for root, _, files in os.walk(input_folder_path):\n",
        "        for file in files:\n",
        "            if file.endswith(\".wav\"):\n",
        "                input_data_path = os.path.join(root, file)\n",
        "\n",
        "                parse_commonvoice(input_data_path, output_csv_path)\n",
        "                parse_openslr(input_data_path, output_csv_path)\n",
        "\n",
        "\n",
        "if __name__ == \"__main__\":\n",
        "    input_folder_path = \"ścieżka/do/folderu/wejściowego\"\n",
        "    output_csv_path = \"ścieżka/do/pliku/wynik.csv\"\n",
        "\n",
        "    run(input_folder_path, output_csv_path)\n"
      ],
      "metadata": {
        "id": "tN8ySRasbAjp"
      },
      "execution_count": null,
      "outputs": []
    }
  ]
}
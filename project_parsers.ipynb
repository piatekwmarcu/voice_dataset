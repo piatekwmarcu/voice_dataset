{
  "nbformat": 4,
  "nbformat_minor": 0,
  "metadata": {
    "colab": {
      "provenance": []
    },
    "kernelspec": {
      "name": "python3",
      "display_name": "Python 3"
    },
    "language_info": {
      "name": "python"
    }
  },
  "cells": [
    {
      "cell_type": "code",
      "source": [
        "import os\n",
        "import sys\n",
        "sys.path.append(os.path.join(os.path.dirname(__file__), \".\"))\n",
        "sys.path.append(os.path.join(os.path.dirname(__file__), \"..\"))\n",
        "from typing import Union\n",
        "import pathlib\n",
        "import csv\n",
        "import librosa\n",
        "\n",
        "def parse_commonvoice(\n",
        "        input_data_path: Union[str, pathlib.Path],\n",
        "        output_data_path: Union[str, pathlib.Path],\n",
        "        output_csv_path: Union[str, pathlib.Path]\n",
        "):\n",
        "    input_data_path = pathlib.Path(input_data_path)\n",
        "    output_data_path = pathlib.Path(output_data_path)\n",
        "    output_csv_path = pathlib.Path(output_csv_path)\n",
        "\n",
        "    with open(input_data_path, 'rb') as input_file, open(output_data_path, 'wb') as output_file:\n",
        "        output_file.write(input_file.read())\n",
        "\n",
        "    csv_filename = output_data_path.stem + '.csv'\n",
        "    csv_path = output_csv_path / csv_filename\n",
        "\n",
        "    audio, sr = librosa.load(output_data_path)\n",
        "\n",
        "    offset_start = 10  # Sekundy\n",
        "    offset_end = 20  # Sekundy\n",
        "    offset_start_samples = int(offset_start * sr)\n",
        "    offset_end_samples = int(offset_end * sr)\n",
        "    audio_offset = audio[offset_start_samples:offset_end_samples]\n",
        "    dlugosc_sygnalu = len(audio_offset) / sr\n",
        "\n",
        "    print(\"Długość sygnału (offset): {:.2f} sekundy\".format(dlugosc_sygnalu))\n",
        "\n",
        "    with open(csv_path, 'w', newline='') as csvfile:\n",
        "        writer = csv.writer(csvfile)\n",
        "        writer.writerow(['Cecha 1', 'Cecha 2', 'Cecha 3'])\n",
        "        writer.writerow([1, 2, 3])\n",
        "        writer.writerow([4, 5, 6])\n",
        "\n"
      ],
      "metadata": {
        "id": "tCI8xBhVp7me"
      },
      "execution_count": null,
      "outputs": []
    },
    {
      "cell_type": "code",
      "source": [
        "import librosa\n",
        "import csv\n",
        "\n",
        "def parse_openslr(\n",
        "        input_data_path: Union[str, pathlib.Path],\n",
        "        output_data_path: Union[str, pathlib.Path],\n",
        "        output_csv_path: Union[str, pathlib.Path]\n",
        "):\n",
        "    input_data_path = pathlib.Path(input_data_path)\n",
        "    output_data_path = pathlib.Path(output_data_path)\n",
        "    output_csv_path = pathlib.Path(output_csv_path)\n",
        "\n",
        "\n",
        "    audio, sr = librosa.load(input_data_path)\n",
        "    dlugosc_sygnalu = len(audio) / sr\n",
        "    print(\"Długość sygnału: {:.2f} sekundy\".format(dlugosc_sygnalu))\n",
        "    offset_start = 10  # Sekundy\n",
        "    offset_end = 20  # Sekundy\n",
        "\n",
        "    offset_start_samples = int(offset_start * sr)\n",
        "    offset_end_samples = int(offset_end * sr)\n",
        "    audio_offset = audio[offset_start_samples:offset_end_samples]\n",
        "    dlugosc_sygnalu_offset = len(audio_offset) / sr\n",
        "\n",
        "    print(\"Długość sygnału (offset): {:.2f} sekundy\".format(dlugosc_sygnalu_offset))\n",
        "\n",
        "    librosa.output.write_wav(output_data_path, audio_offset, sr)\n",
        "    \n",
        "    with open(output_csv_path, 'w', newline='') as csvfile:\n",
        "        writer = csv.writer(csvfile)\n",
        "        writer.writerow(['Długość sygnału', 'Długość sygnału (offset)'])\n",
        "        writer.writerow([dlugosc_sygnalu, dlugosc_sygnalu_offset])\n"
      ],
      "metadata": {
        "id": "0dHp-0Gt2H9P"
      },
      "execution_count": null,
      "outputs": []
    },
    {
      "cell_type": "code",
      "source": [
        "from typing import Union\n",
        "import pathlib\n",
        "import csv\n",
        "import librosa\n",
        "\n",
        "def run(input_data_path: Union[str, pathlib.Path],\n",
        "        output_data_path: Union[str, pathlib.Path],\n",
        "        output_csv_path: Union[str, pathlib.Path]):\n",
        "    input_data_path = pathlib.Path(input_data_path)\n",
        "    output_data_path = pathlib.Path(output_data_path)\n",
        "    output_csv_path = pathlib.Path(output_csv_path)\n",
        "\n",
        "    audio, sr = librosa.load(input_data_path)\n",
        "    dlugosc_sygnalu = len(audio) / sr\n",
        "    print(\"Długość sygnału: {:.2f} sekundy\".format(dlugosc_sygnalu))\n",
        "\n",
        "    offset_start = 10  # Sekundy\n",
        "    offset_end = 20  # Sekundy\n",
        "    offset_start_samples = int(offset_start * sr)\n",
        "    offset_end_samples = int(offset_end * sr)\n",
        "    audio_offset = audio[offset_start_samples:offset_end_samples]\n",
        "    dlugosc_sygnalu_offset = len(audio_offset) / sr\n",
        "\n",
        "    print(\"Długość sygnału (offset): {:.2f} sekundy\".format(dlugosc_sygnalu_offset))\n",
        "\n",
        "    librosa.output.write_wav(output_data_path, audio_offset, sr)\n",
        "\n",
        "    with open(output_csv_path, 'w', newline='') as csvfile:\n",
        "        writer = csv.writer(csvfile)\n",
        "        writer.writerow(['Długość sygnału', 'Długość sygnału (offset)'])\n",
        "        writer.writerow([dlugosc_sygnalu, dlugosc_sygnalu_offset])\n",
        "\n",
        "if __name__ == \"__main__\":\n",
        "    input_data_path = \"sciezka/do/pliku/wejsciowego.wav\"\n",
        "    output_data_path = \"sciezka/do/pliku/wyjsciowego.wav\"\n",
        "    output_csv_path = \"sciezka/do/pliku/wynik.csv\"\n",
        "    run(input_data_path, output_data_path, output_csv_path)\n"
      ],
      "metadata": {
        "id": "5k2RNFNZ6ZQH"
      },
      "execution_count": null,
      "outputs": []
    },
    {
      "cell_type": "code",
      "source": [],
      "metadata": {
        "id": "vQCUZ0VG6-Al"
      },
      "execution_count": null,
      "outputs": []
    }
  ]
}
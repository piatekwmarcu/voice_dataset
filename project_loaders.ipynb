{
  "nbformat": 4,
  "nbformat_minor": 0,
  "metadata": {
    "colab": {
      "provenance": []
    },
    "kernelspec": {
      "name": "python3",
      "display_name": "Python 3"
    },
    "language_info": {
      "name": "python"
    }
  },
  "cells": [
    {
      "cell_type": "code",
      "execution_count": null,
      "metadata": {
        "id": "6u2u2GS0aX7W"
      },
      "outputs": [],
      "source": [
        "import torch as tc\n",
        "from typing import Union\n",
        "import pathlib\n",
        "\n",
        "class Loader(ABC):\n",
        "    def load_case(self, input_path: Union[str, pathlib.Path], loading_params: dict) -> tc.Tensor:\n",
        "        with open(input_path, 'r') as file:\n",
        "            lines = file.readlines()\n",
        "        data = []\n",
        "        for line in lines:\n",
        "            line_data = line.strip().split(',')\n",
        "            line_data = [float(value) for value in line_data]\n",
        "            data.append(line_data)\n",
        "        tensor = tc.tensor(data)\n",
        "\n",
        "        return tensor\n"
      ]
    },
    {
      "cell_type": "code",
      "source": [
        "import torch as tc\n",
        "from typing import Union\n",
        "import pathlib\n",
        "import librosa\n",
        "\n",
        "class RawLoader(Loader):\n",
        "    def __init__(self, sample_rate: int = 44100):\n",
        "        \n",
        "        self.sample_rate = sample_rate\n",
        "\n",
        "    def load_case(self, input_path: Union[str, pathlib.Path], loading_params: dict) -> tc.Tensor:\n",
        "       \n",
        "        waveform, _ = librosa.load(input_path, sr=self.sample_rate, mono=False)  \n",
        "        if waveform.shape[0] == 2:\n",
        "            tensor = tc.from_numpy(waveform)\n",
        "        elif waveform.shape[0] == 1:\n",
        "            tensor = tc.from_numpy(waveform).repeat(2, 1)\n",
        "        else:\n",
        "            raise ValueError(\"Nieobsługiwana liczba kanałów w pliku dźwiękowym.\")\n",
        "\n",
        "        tensor = tensor.unsqueeze(0)  \n",
        "\n",
        "        return tensor\n"
      ],
      "metadata": {
        "id": "N0YjgdYRVaBC"
      },
      "execution_count": null,
      "outputs": []
    },
    {
      "cell_type": "code",
      "source": [
        "import torch as tc\n",
        "from typing import Union\n",
        "import pathlib\n",
        "import librosa\n",
        "\n",
        "class SpectrogramLoader(Loader):\n",
        "    def __init__(self, sample_rate: int = 44100, n_fft: int = 2048, hop_length: int = 512, stereo: bool = False): #tutaj nie wiem na ile Hz chcemy przyjąć więc ustawiłam domyślnie tyle \n",
        "       \n",
        "        self.sample_rate = sample_rate\n",
        "        self.n_fft = n_fft\n",
        "        self.hop_length = hop_length\n",
        "        self.stereo = stereo\n",
        "\n",
        "    def load_case(self, input_path: Union[str, pathlib.Path], loading_params: dict) -> tc.Tensor:\n",
        "        \n",
        "        waveform, _ = librosa.load(input_path, sr=self.sample_rate, mono=not self.stereo)\n",
        "\n",
        "        spectrogram = tc.stft(tc.from_numpy(waveform), n_fft=self.n_fft, hop_length=self.hop_length, center=True)\n",
        "\n",
        "        return tc.abs(spectrogram)  "
      ],
      "metadata": {
        "id": "QaB7HJZaWw5l"
      },
      "execution_count": null,
      "outputs": []
    },
    {
      "cell_type": "code",
      "source": [
        "class MelspectrogramLoader(Loader):\n",
        "    def __init__(self, sample_rate: int = 44100, n_fft: int = 2048, hop_length: int = 512, n_mels: int = 128, stereo: bool = False):\n",
        "\n",
        "        self.sample_rate = sample_rate\n",
        "        self.n_fft = n_fft\n",
        "        self.hop_length = hop_length\n",
        "        self.n_mels = n_mels\n",
        "        self.stereo = stereo\n",
        "\n",
        "    def load_case(self, input_path: Union[str, pathlib.Path], loading_params: dict) -> tc.Tensor:\n",
        "\n",
        "        waveform, _ = librosa.load(input_path, sr=self.sample_rate, mono=not self.stereo)\n",
        "\n",
        "        mel_spec = librosa.feature.melspectrogram(waveform, sr=self.sample_rate, n_fft=self.n_fft, hop_length=self.hop_length, n_mels=self.n_mels)\n",
        "\n",
        "        return tc.from_numpy(mel_spec)\n"
      ],
      "metadata": {
        "id": "v-RZ4AvpW40n"
      },
      "execution_count": null,
      "outputs": []
    }
  ]
}